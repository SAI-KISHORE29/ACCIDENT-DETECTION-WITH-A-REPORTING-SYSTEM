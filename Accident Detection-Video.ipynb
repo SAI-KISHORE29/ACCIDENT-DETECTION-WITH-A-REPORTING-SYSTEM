{
 "cells": [
  {
   "cell_type": "code",
   "execution_count": 2,
   "id": "93c20982",
   "metadata": {},
   "outputs": [],
   "source": [
    "import os\n",
    "import cv2     # for capturing videos\n",
    "import math \n",
    "import geocoder\n",
    "import requests\n",
    "%matplotlib inline\n",
    "import pandas as pd\n",
    "from twilio.rest import Client\n",
    "from geopy.geocoders import Nominatim\n",
    "from keras.preprocessing import image   # for preprocessing the images\n",
    "import numpy as np    # for mathematical operations\n",
    "from keras.utils import np_utils\n",
    "from matplotlib import pyplot as plt \n",
    "from skimage.transform import resize   # for resizing images"
   ]
  },
  {
   "cell_type": "code",
   "execution_count": 3,
   "id": "c9d50c3c",
   "metadata": {},
   "outputs": [
    {
     "name": "stdout",
     "output_type": "stream",
     "text": [
      "Done!\n"
     ]
    }
   ],
   "source": [
    "count = 0\n",
    "videoFile = \"Accidents.mp4\"\n",
    "cap = cv2.VideoCapture(videoFile)   # capturing the video from the given path\n",
    "frameRate = cap.get(5) #frame rate\n",
    "x=1\n",
    "while(cap.isOpened()):\n",
    "    frameId = cap.get(1) #current frame number\n",
    "    ret, frame = cap.read()\n",
    "    if (ret != True):\n",
    "        break\n",
    "    if (frameId % math.floor(frameRate) == 0):\n",
    "        filename =\"%d.jpg\" % count;count+=1\n",
    "        cv2.imwrite(filename, frame)\n",
    "cap.release()\n",
    "print (\"Done!\")"
   ]
  },
  {
   "cell_type": "code",
   "execution_count": 4,
   "id": "ed1ec509",
   "metadata": {},
   "outputs": [
    {
     "data": {
      "text/plain": [
       "<matplotlib.image.AxesImage at 0x1678f7b9370>"
      ]
     },
     "execution_count": 4,
     "metadata": {},
     "output_type": "execute_result"
    },
    {
     "data": {
      "image/png": "[encoded data removed]",
      "text/plain": [
       "<Figure size 432x288 with 1 Axes>"
      ]
     },
     "metadata": {
      "needs_background": "light"
     },
     "output_type": "display_data"
    }
   ],
   "source": [
    "img = plt.imread('0.jpg')   # reading image using its name\n",
    "plt.imshow(img)"
   ]
  },
  {
   "cell_type": "code",
   "execution_count": 5,
   "id": "9da41986",
   "metadata": {},
   "outputs": [
    {
     "data": {
      "text/html": [
       "<div>\n",
       "<style scoped>\n",
       "    .dataframe tbody tr th:only-of-type {\n",
       "        vertical-align: middle;\n",
       "    }\n",
       "\n",
       "    .dataframe tbody tr th {\n",
       "        vertical-align: top;\n",
       "    }\n",
       "\n",
       "    .dataframe thead th {\n",
       "        text-align: right;\n",
       "    }\n",
       "</style>\n",
       "<table border=\"1\" class=\"dataframe\">\n",
       "  <thead>\n",
       "    <tr style=\"text-align: right;\">\n",
       "      <th></th>\n",
       "      <th>Image_ID</th>\n",
       "      <th>Class</th>\n",
       "    </tr>\n",
       "  </thead>\n",
       "  <tbody>\n",
       "    <tr>\n",
       "      <th>0</th>\n",
       "      <td>0.jpg</td>\n",
       "      <td>1</td>\n",
       "    </tr>\n",
       "    <tr>\n",
       "      <th>1</th>\n",
       "      <td>1.jpg</td>\n",
       "      <td>1</td>\n",
       "    </tr>\n",
       "    <tr>\n",
       "      <th>2</th>\n",
       "      <td>2.jpg</td>\n",
       "      <td>1</td>\n",
       "    </tr>\n",
       "    <tr>\n",
       "      <th>3</th>\n",
       "      <td>3.jpg</td>\n",
       "      <td>1</td>\n",
       "    </tr>\n",
       "    <tr>\n",
       "      <th>4</th>\n",
       "      <td>4.jpg</td>\n",
       "      <td>1</td>\n",
       "    </tr>\n",
       "  </tbody>\n",
       "</table>\n",
       "</div>"
      ],
      "text/plain": [
       "  Image_ID  Class\n",
       "0    0.jpg      1\n",
       "1    1.jpg      1\n",
       "2    2.jpg      1\n",
       "3    3.jpg      1\n",
       "4    4.jpg      1"
      ]
     },
     "execution_count": 5,
     "metadata": {},
     "output_type": "execute_result"
    }
   ],
   "source": [
    "data = pd.read_csv('mapping.csv')     # reading the csv file\n",
    "data.head()"
   ]
  },
  {
   "cell_type": "code",
   "execution_count": 6,
   "id": "39a7f413",
   "metadata": {},
   "outputs": [],
   "source": [
    "X = [ ]     # creating an empty array\n",
    "for img_name in data.Image_ID:\n",
    "    img = plt.imread('' + img_name)\n",
    "    X.append(img)  # storing each image in array X\n",
    "X = np.array(X)    # converting list to array"
   ]
  },
  {
   "cell_type": "code",
   "execution_count": 7,
   "id": "e8119c04",
   "metadata": {},
   "outputs": [],
   "source": [
    "y = data.Class\n",
    "dummy_y = np_utils.to_categorical(y)"
   ]
  },
  {
   "cell_type": "code",
   "execution_count": 8,
   "id": "0f7cf107",
   "metadata": {},
   "outputs": [],
   "source": [
    "image = []\n",
    "for i in range(0,X.shape[0]):\n",
    "    a = resize(X[i], preserve_range=True, output_shape=(224,224)).astype(int)      # reshaping to 224*224*3\n",
    "    image.append(a)\n",
    "X = np.array(image)"
   ]
  },
  {
   "cell_type": "code",
   "execution_count": 9,
   "id": "2555ab63",
   "metadata": {},
   "outputs": [],
   "source": [
    "from keras.applications.vgg16 import preprocess_input\n",
    "X = preprocess_input(X,data_format=None)"
   ]
  },
  {
   "cell_type": "code",
   "execution_count": 10,
   "id": "21006e54",
   "metadata": {},
   "outputs": [],
   "source": [
    "from sklearn.model_selection import train_test_split\n",
    "X_train, X_valid, y_train, y_valid = train_test_split(X, dummy_y, test_size=0.3, random_state=42)"
   ]
  },
  {
   "cell_type": "code",
   "execution_count": 11,
   "id": "af20a283",
   "metadata": {},
   "outputs": [],
   "source": [
    "from keras.models import Sequential\n",
    "from keras.applications.vgg16 import VGG16\n",
    "from keras.layers import Dense, InputLayer, Dropout"
   ]
  },
  {
   "cell_type": "code",
   "execution_count": 12,
   "id": "47d94402",
   "metadata": {},
   "outputs": [],
   "source": [
    "base_model = VGG16(weights='imagenet', include_top=False, input_shape=(224, 224, 3)) "
   ]
  },
  {
   "cell_type": "code",
   "execution_count": 13,
   "id": "fb02ec43",
   "metadata": {},
   "outputs": [
    {
     "data": {
      "text/plain": [
       "((155, 7, 7, 512), (67, 7, 7, 512))"
      ]
     },
     "execution_count": 13,
     "metadata": {},
     "output_type": "execute_result"
    }
   ],
   "source": [
    "X_train = base_model.predict(X_train)\n",
    "X_valid = base_model.predict(X_valid)\n",
    "X_train.shape, X_valid.shape"
   ]
  },
  {
   "cell_type": "code",
   "execution_count": 14,
   "id": "555111d7",
   "metadata": {},
   "outputs": [],
   "source": [
    "X_train = X_train.reshape(155, 7*7*512)      # converting to 1-D\n",
    "X_valid = X_valid.reshape(67, 7*7*512)"
   ]
  },
  {
   "cell_type": "code",
   "execution_count": 15,
   "id": "5a5a6732",
   "metadata": {},
   "outputs": [],
   "source": [
    "train = X_train/X_train.max()      # centering the data\n",
    "X_valid = X_valid/X_train.max()"
   ]
  },
  {
   "cell_type": "code",
   "execution_count": 16,
   "id": "57001716",
   "metadata": {},
   "outputs": [],
   "source": [
    "model = Sequential()\n",
    "model.add(InputLayer((7*7*512,)))    # input layer\n",
    "model.add(Dense(units=1024, activation='sigmoid')) # hidden layer\n",
    "model.add(Dense(2, activation='softmax'))    # output layer"
   ]
  },
  {
   "cell_type": "code",
   "execution_count": 17,
   "id": "586cff45",
   "metadata": {},
   "outputs": [
    {
     "name": "stdout",
     "output_type": "stream",
     "text": [
      "Model: \"sequential\"\n",
      "_________________________________________________________________\n",
      " Layer (type)                Output Shape              Param #   \n",
      "=================================================================\n",
      " dense (Dense)               (None, 1024)              25691136  \n",
      "                                                                 \n",
      " dense_1 (Dense)             (None, 2)                 2050      \n",
      "                                                                 \n",
      "=================================================================\n",
      "Total params: 25,693,186\n",
      "Trainable params: 25,693,186\n",
      "Non-trainable params: 0\n",
      "_________________________________________________________________\n"
     ]
    }
   ],
   "source": [
    "model.summary()"
   ]
  },
  {
   "cell_type": "code",
   "execution_count": 18,
   "id": "e36420f6",
   "metadata": {},
   "outputs": [],
   "source": [
    "model.compile(loss='categorical_crossentropy', optimizer='adam', metrics=['accuracy'])"
   ]
  },
  {
   "cell_type": "code",
   "execution_count": 19,
   "id": "20e00a1e",
   "metadata": {
    "scrolled": true
   },
   "outputs": [
    {
     "name": "stdout",
     "output_type": "stream",
     "text": [
      "Epoch 1/100\n",
      "5/5 [==============================] - 1s 149ms/step - loss: 0.6712 - accuracy: 0.6516 - val_loss: 0.7715 - val_accuracy: 0.7463\n",
      "Epoch 2/100\n",
      "5/5 [==============================] - 1s 117ms/step - loss: 0.2626 - accuracy: 0.8903 - val_loss: 0.7881 - val_accuracy: 0.7463\n",
      "Epoch 3/100\n",
      "5/5 [==============================] - 1s 121ms/step - loss: 0.1544 - accuracy: 0.9613 - val_loss: 0.8141 - val_accuracy: 0.7015\n",
      "Epoch 4/100\n",
      "5/5 [==============================] - 1s 117ms/step - loss: 0.0917 - accuracy: 0.9806 - val_loss: 0.8230 - val_accuracy: 0.7015\n",
      "Epoch 5/100\n",
      "5/5 [==============================] - 1s 122ms/step - loss: 0.0661 - accuracy: 0.9871 - val_loss: 0.7856 - val_accuracy: 0.7463\n",
      "Epoch 6/100\n",
      "5/5 [==============================] - 1s 120ms/step - loss: 0.0448 - accuracy: 0.9935 - val_loss: 0.7814 - val_accuracy: 0.7761\n",
      "Epoch 7/100\n",
      "5/5 [==============================] - 1s 119ms/step - loss: 0.0307 - accuracy: 1.0000 - val_loss: 0.7850 - val_accuracy: 0.7761\n",
      "Epoch 8/100\n",
      "5/5 [==============================] - 1s 118ms/step - loss: 0.0242 - accuracy: 1.0000 - val_loss: 0.7794 - val_accuracy: 0.7761\n",
      "Epoch 9/100\n",
      "5/5 [==============================] - 1s 116ms/step - loss: 0.0186 - accuracy: 1.0000 - val_loss: 0.7758 - val_accuracy: 0.7761\n",
      "Epoch 10/100\n",
      "5/5 [==============================] - 1s 116ms/step - loss: 0.0148 - accuracy: 1.0000 - val_loss: 0.7717 - val_accuracy: 0.7761\n",
      "Epoch 11/100\n",
      "5/5 [==============================] - 1s 116ms/step - loss: 0.0125 - accuracy: 1.0000 - val_loss: 0.7741 - val_accuracy: 0.7612\n",
      "Epoch 12/100\n",
      "5/5 [==============================] - 1s 115ms/step - loss: 0.0110 - accuracy: 1.0000 - val_loss: 0.7808 - val_accuracy: 0.7761\n",
      "Epoch 13/100\n",
      "5/5 [==============================] - 1s 121ms/step - loss: 0.0098 - accuracy: 1.0000 - val_loss: 0.7814 - val_accuracy: 0.7910\n",
      "Epoch 14/100\n",
      "5/5 [==============================] - 1s 117ms/step - loss: 0.0088 - accuracy: 1.0000 - val_loss: 0.7860 - val_accuracy: 0.7612\n",
      "Epoch 15/100\n",
      "5/5 [==============================] - 1s 120ms/step - loss: 0.0080 - accuracy: 1.0000 - val_loss: 0.7872 - val_accuracy: 0.7761\n",
      "Epoch 16/100\n",
      "5/5 [==============================] - 1s 117ms/step - loss: 0.0073 - accuracy: 1.0000 - val_loss: 0.7889 - val_accuracy: 0.7612\n",
      "Epoch 17/100\n",
      "5/5 [==============================] - 1s 116ms/step - loss: 0.0067 - accuracy: 1.0000 - val_loss: 0.7884 - val_accuracy: 0.7612\n",
      "Epoch 18/100\n",
      "5/5 [==============================] - 1s 116ms/step - loss: 0.0063 - accuracy: 1.0000 - val_loss: 0.7894 - val_accuracy: 0.7612\n",
      "Epoch 19/100\n",
      "5/5 [==============================] - 1s 116ms/step - loss: 0.0058 - accuracy: 1.0000 - val_loss: 0.7907 - val_accuracy: 0.7761\n",
      "Epoch 20/100\n",
      "5/5 [==============================] - 1s 117ms/step - loss: 0.0055 - accuracy: 1.0000 - val_loss: 0.7948 - val_accuracy: 0.7910\n",
      "Epoch 21/100\n",
      "5/5 [==============================] - 1s 126ms/step - loss: 0.0051 - accuracy: 1.0000 - val_loss: 0.7955 - val_accuracy: 0.7910\n",
      "Epoch 22/100\n",
      "5/5 [==============================] - 1s 117ms/step - loss: 0.0048 - accuracy: 1.0000 - val_loss: 0.7956 - val_accuracy: 0.7761\n",
      "Epoch 23/100\n",
      "5/5 [==============================] - 1s 119ms/step - loss: 0.0045 - accuracy: 1.0000 - val_loss: 0.7986 - val_accuracy: 0.7761\n",
      "Epoch 24/100\n",
      "5/5 [==============================] - 1s 118ms/step - loss: 0.0043 - accuracy: 1.0000 - val_loss: 0.8003 - val_accuracy: 0.7910\n",
      "Epoch 25/100\n",
      "5/5 [==============================] - 1s 115ms/step - loss: 0.0040 - accuracy: 1.0000 - val_loss: 0.7989 - val_accuracy: 0.8060\n",
      "Epoch 26/100\n",
      "5/5 [==============================] - 1s 113ms/step - loss: 0.0038 - accuracy: 1.0000 - val_loss: 0.7981 - val_accuracy: 0.7910\n",
      "Epoch 27/100\n",
      "5/5 [==============================] - 1s 121ms/step - loss: 0.0036 - accuracy: 1.0000 - val_loss: 0.7984 - val_accuracy: 0.7910\n",
      "Epoch 28/100\n",
      "5/5 [==============================] - 1s 118ms/step - loss: 0.0034 - accuracy: 1.0000 - val_loss: 0.8000 - val_accuracy: 0.7910\n",
      "Epoch 29/100\n",
      "5/5 [==============================] - 1s 112ms/step - loss: 0.0032 - accuracy: 1.0000 - val_loss: 0.8007 - val_accuracy: 0.7910\n",
      "Epoch 30/100\n",
      "5/5 [==============================] - 1s 117ms/step - loss: 0.0031 - accuracy: 1.0000 - val_loss: 0.8010 - val_accuracy: 0.7910\n",
      "Epoch 31/100\n",
      "5/5 [==============================] - 1s 115ms/step - loss: 0.0030 - accuracy: 1.0000 - val_loss: 0.8013 - val_accuracy: 0.7910\n",
      "Epoch 32/100\n",
      "5/5 [==============================] - 1s 119ms/step - loss: 0.0028 - accuracy: 1.0000 - val_loss: 0.8037 - val_accuracy: 0.7910\n",
      "Epoch 33/100\n",
      "5/5 [==============================] - 1s 120ms/step - loss: 0.0027 - accuracy: 1.0000 - val_loss: 0.8054 - val_accuracy: 0.7910\n",
      "Epoch 34/100\n",
      "5/5 [==============================] - 1s 119ms/step - loss: 0.0026 - accuracy: 1.0000 - val_loss: 0.8068 - val_accuracy: 0.7910\n",
      "Epoch 35/100\n",
      "5/5 [==============================] - 1s 118ms/step - loss: 0.0025 - accuracy: 1.0000 - val_loss: 0.8100 - val_accuracy: 0.7910\n",
      "Epoch 36/100\n",
      "5/5 [==============================] - 1s 118ms/step - loss: 0.0023 - accuracy: 1.0000 - val_loss: 0.8115 - val_accuracy: 0.7910\n",
      "Epoch 37/100\n",
      "5/5 [==============================] - 1s 116ms/step - loss: 0.0022 - accuracy: 1.0000 - val_loss: 0.8107 - val_accuracy: 0.7910\n",
      "Epoch 38/100\n",
      "5/5 [==============================] - 1s 119ms/step - loss: 0.0022 - accuracy: 1.0000 - val_loss: 0.8111 - val_accuracy: 0.7910\n",
      "Epoch 39/100\n",
      "5/5 [==============================] - 1s 122ms/step - loss: 0.0021 - accuracy: 1.0000 - val_loss: 0.8130 - val_accuracy: 0.7910\n",
      "Epoch 40/100\n",
      "5/5 [==============================] - 1s 117ms/step - loss: 0.0020 - accuracy: 1.0000 - val_loss: 0.8141 - val_accuracy: 0.7910\n",
      "Epoch 41/100\n",
      "5/5 [==============================] - 1s 116ms/step - loss: 0.0019 - accuracy: 1.0000 - val_loss: 0.8136 - val_accuracy: 0.8060\n",
      "Epoch 42/100\n",
      "5/5 [==============================] - 1s 119ms/step - loss: 0.0018 - accuracy: 1.0000 - val_loss: 0.8137 - val_accuracy: 0.7910\n",
      "Epoch 43/100\n",
      "5/5 [==============================] - 1s 116ms/step - loss: 0.0018 - accuracy: 1.0000 - val_loss: 0.8143 - val_accuracy: 0.7910\n",
      "Epoch 44/100\n",
      "5/5 [==============================] - 1s 115ms/step - loss: 0.0017 - accuracy: 1.0000 - val_loss: 0.8155 - val_accuracy: 0.7910\n",
      "Epoch 45/100\n",
      "5/5 [==============================] - 1s 121ms/step - loss: 0.0017 - accuracy: 1.0000 - val_loss: 0.8174 - val_accuracy: 0.7910\n",
      "Epoch 46/100\n",
      "5/5 [==============================] - 1s 116ms/step - loss: 0.0016 - accuracy: 1.0000 - val_loss: 0.8198 - val_accuracy: 0.7910\n",
      "Epoch 47/100\n",
      "5/5 [==============================] - 1s 118ms/step - loss: 0.0016 - accuracy: 1.0000 - val_loss: 0.8213 - val_accuracy: 0.7910\n",
      "Epoch 48/100\n",
      "5/5 [==============================] - 1s 119ms/step - loss: 0.0015 - accuracy: 1.0000 - val_loss: 0.8228 - val_accuracy: 0.7910\n",
      "Epoch 49/100\n",
      "5/5 [==============================] - 1s 118ms/step - loss: 0.0015 - accuracy: 1.0000 - val_loss: 0.8234 - val_accuracy: 0.7910\n",
      "Epoch 50/100\n",
      "5/5 [==============================] - 1s 119ms/step - loss: 0.0014 - accuracy: 1.0000 - val_loss: 0.8241 - val_accuracy: 0.8060\n",
      "Epoch 51/100\n",
      "5/5 [==============================] - 1s 118ms/step - loss: 0.0014 - accuracy: 1.0000 - val_loss: 0.8251 - val_accuracy: 0.8060\n",
      "Epoch 52/100\n",
      "5/5 [==============================] - 1s 118ms/step - loss: 0.0013 - accuracy: 1.0000 - val_loss: 0.8247 - val_accuracy: 0.8060\n",
      "Epoch 53/100\n",
      "5/5 [==============================] - 1s 115ms/step - loss: 0.0013 - accuracy: 1.0000 - val_loss: 0.8255 - val_accuracy: 0.8060\n",
      "Epoch 54/100\n",
      "5/5 [==============================] - 1s 118ms/step - loss: 0.0012 - accuracy: 1.0000 - val_loss: 0.8260 - val_accuracy: 0.8060\n",
      "Epoch 55/100\n",
      "5/5 [==============================] - 1s 116ms/step - loss: 0.0012 - accuracy: 1.0000 - val_loss: 0.8276 - val_accuracy: 0.8060\n",
      "Epoch 56/100\n",
      "5/5 [==============================] - 1s 119ms/step - loss: 0.0012 - accuracy: 1.0000 - val_loss: 0.8275 - val_accuracy: 0.8060\n",
      "Epoch 57/100\n",
      "5/5 [==============================] - 1s 119ms/step - loss: 0.0011 - accuracy: 1.0000 - val_loss: 0.8290 - val_accuracy: 0.8060\n",
      "Epoch 58/100\n",
      "5/5 [==============================] - 1s 120ms/step - loss: 0.0011 - accuracy: 1.0000 - val_loss: 0.8301 - val_accuracy: 0.8060\n"
     ]
    },
    {
     "name": "stdout",
     "output_type": "stream",
     "text": [
      "Epoch 59/100\n",
      "5/5 [==============================] - 1s 119ms/step - loss: 0.0011 - accuracy: 1.0000 - val_loss: 0.8315 - val_accuracy: 0.8060\n",
      "Epoch 60/100\n",
      "5/5 [==============================] - 1s 114ms/step - loss: 0.0010 - accuracy: 1.0000 - val_loss: 0.8321 - val_accuracy: 0.8209\n",
      "Epoch 61/100\n",
      "5/5 [==============================] - 1s 118ms/step - loss: 0.0010 - accuracy: 1.0000 - val_loss: 0.8326 - val_accuracy: 0.8358\n",
      "Epoch 62/100\n",
      "5/5 [==============================] - 1s 116ms/step - loss: 9.9497e-04 - accuracy: 1.0000 - val_loss: 0.8339 - val_accuracy: 0.8358\n",
      "Epoch 63/100\n",
      "5/5 [==============================] - 1s 115ms/step - loss: 9.6846e-04 - accuracy: 1.0000 - val_loss: 0.8344 - val_accuracy: 0.8358\n",
      "Epoch 64/100\n",
      "5/5 [==============================] - 1s 119ms/step - loss: 9.4403e-04 - accuracy: 1.0000 - val_loss: 0.8357 - val_accuracy: 0.8209\n",
      "Epoch 65/100\n",
      "5/5 [==============================] - 1s 118ms/step - loss: 9.2136e-04 - accuracy: 1.0000 - val_loss: 0.8362 - val_accuracy: 0.8358\n",
      "Epoch 66/100\n",
      "5/5 [==============================] - 1s 119ms/step - loss: 8.9649e-04 - accuracy: 1.0000 - val_loss: 0.8370 - val_accuracy: 0.8358\n",
      "Epoch 67/100\n",
      "5/5 [==============================] - 1s 117ms/step - loss: 8.7430e-04 - accuracy: 1.0000 - val_loss: 0.8381 - val_accuracy: 0.8358\n",
      "Epoch 68/100\n",
      "5/5 [==============================] - 1s 119ms/step - loss: 8.5364e-04 - accuracy: 1.0000 - val_loss: 0.8398 - val_accuracy: 0.8209\n",
      "Epoch 69/100\n",
      "5/5 [==============================] - 1s 112ms/step - loss: 8.3262e-04 - accuracy: 1.0000 - val_loss: 0.8405 - val_accuracy: 0.8209\n",
      "Epoch 70/100\n",
      "5/5 [==============================] - 1s 117ms/step - loss: 8.1126e-04 - accuracy: 1.0000 - val_loss: 0.8410 - val_accuracy: 0.8209\n",
      "Epoch 71/100\n",
      "5/5 [==============================] - 1s 122ms/step - loss: 7.9447e-04 - accuracy: 1.0000 - val_loss: 0.8421 - val_accuracy: 0.8209\n",
      "Epoch 72/100\n",
      "5/5 [==============================] - 1s 116ms/step - loss: 7.7667e-04 - accuracy: 1.0000 - val_loss: 0.8425 - val_accuracy: 0.8358\n",
      "Epoch 73/100\n",
      "5/5 [==============================] - 1s 117ms/step - loss: 7.5751e-04 - accuracy: 1.0000 - val_loss: 0.8425 - val_accuracy: 0.8358\n",
      "Epoch 74/100\n",
      "5/5 [==============================] - 1s 117ms/step - loss: 7.4025e-04 - accuracy: 1.0000 - val_loss: 0.8433 - val_accuracy: 0.8358\n",
      "Epoch 75/100\n",
      "5/5 [==============================] - 1s 116ms/step - loss: 7.2370e-04 - accuracy: 1.0000 - val_loss: 0.8439 - val_accuracy: 0.8209\n",
      "Epoch 76/100\n",
      "5/5 [==============================] - 1s 117ms/step - loss: 7.0706e-04 - accuracy: 1.0000 - val_loss: 0.8444 - val_accuracy: 0.8358\n",
      "Epoch 77/100\n",
      "5/5 [==============================] - 1s 117ms/step - loss: 6.9597e-04 - accuracy: 1.0000 - val_loss: 0.8442 - val_accuracy: 0.8209\n",
      "Epoch 78/100\n",
      "5/5 [==============================] - 1s 118ms/step - loss: 6.7841e-04 - accuracy: 1.0000 - val_loss: 0.8451 - val_accuracy: 0.8209\n",
      "Epoch 79/100\n",
      "5/5 [==============================] - 1s 119ms/step - loss: 6.6324e-04 - accuracy: 1.0000 - val_loss: 0.8457 - val_accuracy: 0.8358\n",
      "Epoch 80/100\n",
      "5/5 [==============================] - 1s 126ms/step - loss: 6.4871e-04 - accuracy: 1.0000 - val_loss: 0.8472 - val_accuracy: 0.8358\n",
      "Epoch 81/100\n",
      "5/5 [==============================] - 1s 122ms/step - loss: 6.3674e-04 - accuracy: 1.0000 - val_loss: 0.8479 - val_accuracy: 0.8358\n",
      "Epoch 82/100\n",
      "5/5 [==============================] - 1s 114ms/step - loss: 6.2366e-04 - accuracy: 1.0000 - val_loss: 0.8483 - val_accuracy: 0.8358\n",
      "Epoch 83/100\n",
      "5/5 [==============================] - 1s 116ms/step - loss: 6.1010e-04 - accuracy: 1.0000 - val_loss: 0.8500 - val_accuracy: 0.8358\n",
      "Epoch 84/100\n",
      "5/5 [==============================] - 1s 116ms/step - loss: 5.9774e-04 - accuracy: 1.0000 - val_loss: 0.8509 - val_accuracy: 0.8358\n",
      "Epoch 85/100\n",
      "5/5 [==============================] - 1s 117ms/step - loss: 5.8624e-04 - accuracy: 1.0000 - val_loss: 0.8515 - val_accuracy: 0.8358\n",
      "Epoch 86/100\n",
      "5/5 [==============================] - 1s 117ms/step - loss: 5.7582e-04 - accuracy: 1.0000 - val_loss: 0.8525 - val_accuracy: 0.8358\n",
      "Epoch 87/100\n",
      "5/5 [==============================] - 1s 116ms/step - loss: 5.6315e-04 - accuracy: 1.0000 - val_loss: 0.8529 - val_accuracy: 0.8358\n",
      "Epoch 88/100\n",
      "5/5 [==============================] - 1s 117ms/step - loss: 5.5271e-04 - accuracy: 1.0000 - val_loss: 0.8530 - val_accuracy: 0.8358\n",
      "Epoch 89/100\n",
      "5/5 [==============================] - 1s 118ms/step - loss: 5.4184e-04 - accuracy: 1.0000 - val_loss: 0.8543 - val_accuracy: 0.8358\n",
      "Epoch 90/100\n",
      "5/5 [==============================] - 1s 119ms/step - loss: 5.3134e-04 - accuracy: 1.0000 - val_loss: 0.8550 - val_accuracy: 0.8358\n",
      "Epoch 91/100\n",
      "5/5 [==============================] - 1s 116ms/step - loss: 5.2118e-04 - accuracy: 1.0000 - val_loss: 0.8556 - val_accuracy: 0.8358\n",
      "Epoch 92/100\n",
      "5/5 [==============================] - 1s 118ms/step - loss: 5.1359e-04 - accuracy: 1.0000 - val_loss: 0.8557 - val_accuracy: 0.8209\n",
      "Epoch 93/100\n",
      "5/5 [==============================] - 1s 118ms/step - loss: 5.0262e-04 - accuracy: 1.0000 - val_loss: 0.8564 - val_accuracy: 0.8209\n",
      "Epoch 94/100\n",
      "5/5 [==============================] - 1s 118ms/step - loss: 4.9333e-04 - accuracy: 1.0000 - val_loss: 0.8576 - val_accuracy: 0.8358\n",
      "Epoch 95/100\n",
      "5/5 [==============================] - 1s 115ms/step - loss: 4.8394e-04 - accuracy: 1.0000 - val_loss: 0.8585 - val_accuracy: 0.8358\n",
      "Epoch 96/100\n",
      "5/5 [==============================] - 1s 114ms/step - loss: 4.7671e-04 - accuracy: 1.0000 - val_loss: 0.8592 - val_accuracy: 0.8358\n",
      "Epoch 97/100\n",
      "5/5 [==============================] - 1s 118ms/step - loss: 4.6761e-04 - accuracy: 1.0000 - val_loss: 0.8602 - val_accuracy: 0.8358\n",
      "Epoch 98/100\n",
      "5/5 [==============================] - 1s 118ms/step - loss: 4.5890e-04 - accuracy: 1.0000 - val_loss: 0.8611 - val_accuracy: 0.8358\n",
      "Epoch 99/100\n",
      "5/5 [==============================] - 1s 119ms/step - loss: 4.5095e-04 - accuracy: 1.0000 - val_loss: 0.8617 - val_accuracy: 0.8358\n",
      "Epoch 100/100\n",
      "5/5 [==============================] - 1s 116ms/step - loss: 4.4356e-04 - accuracy: 1.0000 - val_loss: 0.8617 - val_accuracy: 0.8358\n"
     ]
    },
    {
     "data": {
      "text/plain": [
       "<keras.callbacks.History at 0x16791823d00>"
      ]
     },
     "execution_count": 19,
     "metadata": {},
     "output_type": "execute_result"
    }
   ],
   "source": [
    "model.fit(train, y_train, epochs=100, validation_data=(X_valid, y_valid))"
   ]
  },
  {
   "cell_type": "code",
   "execution_count": 20,
   "id": "494768fe",
   "metadata": {},
   "outputs": [],
   "source": [
    "model.compile(loss='categorical_crossentropy', optimizer='adam', metrics=['accuracy'])"
   ]
  },
  {
   "cell_type": "code",
   "execution_count": 21,
   "id": "b8d52fec",
   "metadata": {},
   "outputs": [
    {
     "name": "stdout",
     "output_type": "stream",
     "text": [
      "Done!\n"
     ]
    }
   ],
   "source": [
    "count = 0\n",
    "videoFile = \"Accident-1.mp4\"\n",
    "cap = cv2.VideoCapture(videoFile)\n",
    "frameRate = cap.get(5) #frame rate\n",
    "x=1\n",
    "while(cap.isOpened()):\n",
    "    frameId = cap.get(1) #current frame number\n",
    "    ret, frame = cap.read()\n",
    "    if (ret != True):\n",
    "        break\n",
    "    if (frameId % math.floor(frameRate) == 0):\n",
    "        filename =\"test%d.jpg\" % count;count+=1\n",
    "        cv2.imwrite(filename, frame)\n",
    "cap.release()\n",
    "print (\"Done!\")"
   ]
  },
  {
   "cell_type": "code",
   "execution_count": 22,
   "id": "1cf0f0cd",
   "metadata": {},
   "outputs": [],
   "source": [
    "test = pd.read_csv('test.csv')"
   ]
  },
  {
   "cell_type": "code",
   "execution_count": 23,
   "id": "9047ac11",
   "metadata": {},
   "outputs": [],
   "source": [
    "test_image = []\n",
    "for img_name in test.Image_ID:\n",
    "    img = plt.imread('' + img_name)\n",
    "    test_image.append(img)\n",
    "test_img = np.array(test_image)"
   ]
  },
  {
   "cell_type": "code",
   "execution_count": 24,
   "id": "f32558f2",
   "metadata": {},
   "outputs": [],
   "source": [
    "test_image = []\n",
    "for i in range(0,test_img.shape[0]):\n",
    "    a = resize(test_img[i], preserve_range=True, output_shape=(224,224)).astype(int)\n",
    "    test_image.append(a)\n",
    "test_image = np.array(test_image)"
   ]
  },
  {
   "cell_type": "code",
   "execution_count": 25,
   "id": "ff1260b5",
   "metadata": {},
   "outputs": [
    {
     "data": {
      "text/plain": [
       "(9, 7, 7, 512)"
      ]
     },
     "execution_count": 25,
     "metadata": {},
     "output_type": "execute_result"
    }
   ],
   "source": [
    "# preprocessing the images\n",
    "test_image = preprocess_input(test_image, data_format=None)\n",
    "\n",
    "# extracting features from the images using pretrained model\n",
    "test_image = base_model.predict(test_image)\n",
    "test_image.shape"
   ]
  },
  {
   "cell_type": "code",
   "execution_count": 26,
   "id": "b9f69282",
   "metadata": {},
   "outputs": [],
   "source": [
    "test_image = test_image.reshape(9, 7*7*512)\n",
    "\n",
    "# zero centered images\n",
    "test_image = test_image/test_image.max()"
   ]
  },
  {
   "cell_type": "code",
   "execution_count": 27,
   "id": "721c02ae",
   "metadata": {},
   "outputs": [],
   "source": [
    "predictions = model.predict(test_image)"
   ]
  },
  {
   "cell_type": "code",
   "execution_count": 28,
   "id": "fb5b165b",
   "metadata": {},
   "outputs": [
    {
     "name": "stdout",
     "output_type": "stream",
     "text": [
      "[[6.1990404e-06 9.9999380e-01]\n",
      " [4.5403195e-04 9.9954599e-01]\n",
      " [2.8850536e-03 9.9711490e-01]\n",
      " [8.8058825e-04 9.9911946e-01]\n",
      " [2.2507354e-03 9.9774927e-01]\n",
      " [7.1023732e-01 2.8976271e-01]\n",
      " [9.1785437e-01 8.2145646e-02]\n",
      " [8.3563751e-01 1.6436252e-01]\n",
      " [9.1031182e-01 8.9688160e-02]]\n"
     ]
    }
   ],
   "source": [
    "print(predictions)"
   ]
  },
  {
   "cell_type": "code",
   "execution_count": 29,
   "id": "1f040ef0",
   "metadata": {
    "scrolled": true
   },
   "outputs": [
    {
     "name": "stdout",
     "output_type": "stream",
     "text": [
      "No Accident\n",
      "No Accident\n",
      "No Accident\n",
      "No Accident\n",
      "No Accident\n",
      "Accident\n",
      "Accident\n",
      "Accident\n",
      "Accident\n"
     ]
    }
   ],
   "source": [
    "for i in range (0,9):\n",
    "    if predictions[i][0]<predictions[i][1]:\n",
    "        print(\"No Accident\")\n",
    "    else:\n",
    "        print(\"Accident\")\n",
    "    "
   ]
  },
  {
   "cell_type": "code",
   "execution_count": 30,
   "id": "e66b91f0",
   "metadata": {},
   "outputs": [],
   "source": [
    "geoLoc = Nominatim(user_agent=\"GetLoc\")\n",
    "g = geocoder.ip('me')\n",
    "locname = geoLoc.reverse(g.latlng)\n",
    "account_sid = #Enter Your account sid\n",
    "auth_token = #Enter your auth token\n",
    "client = Client(account_sid, auth_token)"
   ]
  },
  {
   "cell_type": "code",
   "execution_count": 33,
   "id": "80b3e4f1",
   "metadata": {},
   "outputs": [
    {
     "ename": "SyntaxError",
     "evalue": "invalid syntax (Temp/ipykernel_9300/2088638982.py, line 30)",
     "output_type": "error",
     "traceback": [
      "\u001b[1;36m  File \u001b[1;32m\"C:\\Users\\Admin\\AppData\\Local\\Temp/ipykernel_9300/2088638982.py\"\u001b[1;36m, line \u001b[1;32m30\u001b[0m\n\u001b[1;33m    to= #Enter phone number which you have to send the SMS.)\u001b[0m\n\u001b[1;37m      ^\u001b[0m\n\u001b[1;31mSyntaxError\u001b[0m\u001b[1;31m:\u001b[0m invalid syntax\n"
     ]
    }
   ],
   "source": [
    "cap = cv2.VideoCapture('Accident-1.mp4')\n",
    "i=0\n",
    "flag=0\n",
    "while(True):\n",
    "    ret,frame=cap.read()\n",
    "    if ret==True:\n",
    "        if predictions[int(i/15)%9][0]<predictions[int(i/15)%9][1]:\n",
    "            predict=\"No Accident\"\n",
    "        else:\n",
    "            predict=\"Accident\"\n",
    "            flag=1\n",
    "        font = cv2.FONT_HERSHEY_SIMPLEX\n",
    "        cv2.putText(frame,\n",
    "                predict,\n",
    "                (50, 50),\n",
    "                font, 1,\n",
    "                (0, 255, 255),\n",
    "                3,\n",
    "                cv2.LINE_4)\n",
    "        cv2.imshow('Frame', frame)\n",
    "        i=i+1\n",
    "        if cv2.waitKey(1) & 0xFF == ord('q'):\n",
    "            break\n",
    "    else:\n",
    "        break\n",
    "if flag==1:\n",
    "    client.messages.create(\n",
    "                 body=\"Accident detected in \"+locname.address,\n",
    "                 from_= #Enter your virtual phone number,\n",
    "                 to= #Enter phone number which you have to send the SMS. )\n",
    "\n",
    "# release the cap object\n",
    "cap.release()\n",
    "# close all windows\n",
    "cv2.destroyAllWindows()\n"
   ]
  },
  {
   "cell_type": "code",
   "execution_count": null,
   "id": "27a76e04",
   "metadata": {},
   "outputs": [],
   "source": []
  },
  {
   "cell_type": "code",
   "execution_count": null,
   "id": "0d3a6a4f",
   "metadata": {},
   "outputs": [],
   "source": []
  },
  {
   "cell_type": "code",
   "execution_count": null,
   "id": "36aaa0ab",
   "metadata": {},
   "outputs": [],
   "source": []
  },
  {
   "cell_type": "code",
   "execution_count": null,
   "id": "0ab12e9d",
   "metadata": {},
   "outputs": [],
   "source": []
  },
  {
   "cell_type": "code",
   "execution_count": null,
   "id": "38071c34",
   "metadata": {},
   "outputs": [],
   "source": []
  }
 ],
 "metadata": {
  "kernelspec": {
   "display_name": "Python 3 (ipykernel)",
   "language": "python",
   "name": "python3"
  },
  "language_info": {
   "codemirror_mode": {
    "name": "ipython",
    "version": 3
   },
   "file_extension": ".py",
   "mimetype": "text/x-python",
   "name": "python",
   "nbconvert_exporter": "python",
   "pygments_lexer": "ipython3",
   "version": "3.9.7"
  }
 },
 "nbformat": 4,
 "nbformat_minor": 5
}
